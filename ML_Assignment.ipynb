{
  "nbformat": 4,
  "nbformat_minor": 0,
  "metadata": {
    "colab": {
      "provenance": [],
      "authorship_tag": "ABX9TyMP+s07PeyztuJNwGGBtII8",
      "include_colab_link": true
    },
    "kernelspec": {
      "name": "python3",
      "display_name": "Python 3"
    },
    "language_info": {
      "name": "python"
    }
  },
  "cells": [
    {
      "cell_type": "markdown",
      "metadata": {
        "id": "view-in-github",
        "colab_type": "text"
      },
      "source": [
        "<a href=\"https://colab.research.google.com/github/Poojal04/220770_cs253/blob/main/ML_Assignment.ipynb\" target=\"_parent\"><img src=\"https://colab.research.google.com/assets/colab-badge.svg\" alt=\"Open In Colab\"/></a>"
      ]
    },
    {
      "cell_type": "code",
      "source": [
        "from sklearn.model_selection import train_test_split\n",
        "import pandas as pd\n",
        "#reading train-data from file\n",
        "data = pd.read_csv('train.csv')"
      ],
      "metadata": {
        "id": "FsBQfqCKJmsa"
      },
      "execution_count": null,
      "outputs": []
    },
    {
      "cell_type": "code",
      "source": [
        "#Pre-Processing the train dataset\n",
        "# Function to convert amount strings with units (Crore, Lac, Thou, Hund) to actual values in rupees\n",
        "def convert_amount_to_actual_with_zeroes(amount):\n",
        "    if 'Crore' in amount:\n",
        "        value= float(amount.replace(' Crore+', '')) * 10000000\n",
        "    elif 'Lac' in amount:\n",
        "        value= float(amount.replace(' Lac+', '')) * 100000\n",
        "    elif 'Thou' in amount:\n",
        "        value= float(amount.replace(' Thou+', '')) * 1000\n",
        "    elif 'Hund' in amount:\n",
        "        value= float(amount.replace(' Hund+', '')) * 100\n",
        "    else:\n",
        "        value= float(amount)\n",
        "    return int(value)\n",
        "# Convert 'Total Assets' and 'Liabilities' columns to rupees by removing the crore, lac, thou, hund units\n",
        "data['Total Assets'] = data['Total Assets'].apply(convert_amount_to_actual_with_zeroes)\n",
        "data['Liabilities'] = data['Liabilities'].apply(convert_amount_to_actual_with_zeroes)\n",
        "# One-hot encode the 'state' column\n",
        "data_encoded1 = pd.get_dummies(data, columns=['state'])\n",
        "# One-hot encode the 'Party' column\n",
        "data = pd.get_dummies(data_encoded1, columns=['Party'])\n"
      ],
      "metadata": {
        "id": "qqKqentzKipX"
      },
      "execution_count": null,
      "outputs": []
    },
    {
      "cell_type": "code",
      "source": [
        "#Pre-Processing the train dataset\n",
        "import numpy as np\n",
        "# Convert columns to integer type, except specified columns\n",
        "data = data.apply(lambda x: x.astype(int) if x.name not in ['Candidate', 'Education','Liabilities','Total Assests','Criminal Case','ID','Education','Constituency ∇'] else x)\n",
        "# Mapping education levels to numerical values\n",
        "education_mapping = {\n",
        "    '8th Pass': 3,\n",
        "    '12th Pass': 5,\n",
        "    'Post Graduate': 8,\n",
        "    'Graduate Professional': 7,\n",
        "    'Graduate': 6,\n",
        "    '10th Pass': 4,\n",
        "    'Others': 0,\n",
        "    'Doctorate': 9,\n",
        "    'Literate': 1,\n",
        "    '5th Pass': 2\n",
        "}\n",
        "# Function to classify titles in the 'Candidate' column\n",
        "def classify_title(name):\n",
        "    if \"Dr.\" in name:\n",
        "        return \"Dr\"\n",
        "    elif \"Adv.\" in name:\n",
        "        return \"Adv\"\n",
        "    else:\n",
        "        return \"None\"\n",
        "# Map education levels to numerical values\n",
        "data['Education'] = data['Education'].map(education_mapping)\n",
        "# Apply classify_title function to 'Candidate' column\n",
        "data['Candidate'] = data['Candidate'].apply(classify_title)\n",
        "# Drop 'Constituency ∇' column\n",
        "data.drop(columns=['Constituency ∇'], inplace=True)\n",
        "# One-hot encode the 'Candidate' column\n",
        "data= pd.get_dummies(data, columns=['Candidate'])\n",
        "# Convert the entire dataframe to integer type\n",
        "data = data.astype(int)\n",
        "# Create a 'Criminal_Case_Flag' column indicating presence (1) or absence (0) of criminal cases\n",
        "data['Criminal_Case_Flag'] = data['Criminal Case'].apply(lambda x: 0 if x < 1 else 1)"
      ],
      "metadata": {
        "id": "jC01iQ_Yz-H4"
      },
      "execution_count": null,
      "outputs": []
    },
    {
      "cell_type": "code",
      "source": [
        "X = data.drop('Education', axis=1)  # Features (excluding 'Education' column)\n",
        "y = data['Education']  # Target variable ('Education' column)"
      ],
      "metadata": {
        "id": "kw8F4ZV0P9M3"
      },
      "execution_count": null,
      "outputs": []
    },
    {
      "cell_type": "code",
      "source": [
        "from sklearn.ensemble import RandomForestClassifier\n",
        "from sklearn.metrics import accuracy_score\n",
        "from sklearn.svm import SVC\n",
        "from sklearn.metrics import f1_score\n",
        "from sklearn.linear_model import LogisticRegression\n",
        "from sklearn.neighbors import KNeighborsClassifier\n",
        "from sklearn.naive_bayes import BernoulliNB\n",
        "#Removing column name of name\n",
        "X = X.iloc[:, 1:]\n",
        "#tried several models like random forest classifier,svm.SVC,Logistic,KNeighbours but the best among them was BernaulliNB\n",
        "svm_model=BernoulliNB()\n",
        "#fit the model\n",
        "svm_model.fit(X, y)"
      ],
      "metadata": {
        "colab": {
          "base_uri": "https://localhost:8080/",
          "height": 75
        },
        "id": "xnDNwT9iL5Id",
        "outputId": "f1961a9e-0509-4b26-f269-422bd2da16b5"
      },
      "execution_count": null,
      "outputs": [
        {
          "output_type": "execute_result",
          "data": {
            "text/plain": [
              "BernoulliNB()"
            ],
            "text/html": [
              "<style>#sk-container-id-1 {color: black;background-color: white;}#sk-container-id-1 pre{padding: 0;}#sk-container-id-1 div.sk-toggleable {background-color: white;}#sk-container-id-1 label.sk-toggleable__label {cursor: pointer;display: block;width: 100%;margin-bottom: 0;padding: 0.3em;box-sizing: border-box;text-align: center;}#sk-container-id-1 label.sk-toggleable__label-arrow:before {content: \"▸\";float: left;margin-right: 0.25em;color: #696969;}#sk-container-id-1 label.sk-toggleable__label-arrow:hover:before {color: black;}#sk-container-id-1 div.sk-estimator:hover label.sk-toggleable__label-arrow:before {color: black;}#sk-container-id-1 div.sk-toggleable__content {max-height: 0;max-width: 0;overflow: hidden;text-align: left;background-color: #f0f8ff;}#sk-container-id-1 div.sk-toggleable__content pre {margin: 0.2em;color: black;border-radius: 0.25em;background-color: #f0f8ff;}#sk-container-id-1 input.sk-toggleable__control:checked~div.sk-toggleable__content {max-height: 200px;max-width: 100%;overflow: auto;}#sk-container-id-1 input.sk-toggleable__control:checked~label.sk-toggleable__label-arrow:before {content: \"▾\";}#sk-container-id-1 div.sk-estimator input.sk-toggleable__control:checked~label.sk-toggleable__label {background-color: #d4ebff;}#sk-container-id-1 div.sk-label input.sk-toggleable__control:checked~label.sk-toggleable__label {background-color: #d4ebff;}#sk-container-id-1 input.sk-hidden--visually {border: 0;clip: rect(1px 1px 1px 1px);clip: rect(1px, 1px, 1px, 1px);height: 1px;margin: -1px;overflow: hidden;padding: 0;position: absolute;width: 1px;}#sk-container-id-1 div.sk-estimator {font-family: monospace;background-color: #f0f8ff;border: 1px dotted black;border-radius: 0.25em;box-sizing: border-box;margin-bottom: 0.5em;}#sk-container-id-1 div.sk-estimator:hover {background-color: #d4ebff;}#sk-container-id-1 div.sk-parallel-item::after {content: \"\";width: 100%;border-bottom: 1px solid gray;flex-grow: 1;}#sk-container-id-1 div.sk-label:hover label.sk-toggleable__label {background-color: #d4ebff;}#sk-container-id-1 div.sk-serial::before {content: \"\";position: absolute;border-left: 1px solid gray;box-sizing: border-box;top: 0;bottom: 0;left: 50%;z-index: 0;}#sk-container-id-1 div.sk-serial {display: flex;flex-direction: column;align-items: center;background-color: white;padding-right: 0.2em;padding-left: 0.2em;position: relative;}#sk-container-id-1 div.sk-item {position: relative;z-index: 1;}#sk-container-id-1 div.sk-parallel {display: flex;align-items: stretch;justify-content: center;background-color: white;position: relative;}#sk-container-id-1 div.sk-item::before, #sk-container-id-1 div.sk-parallel-item::before {content: \"\";position: absolute;border-left: 1px solid gray;box-sizing: border-box;top: 0;bottom: 0;left: 50%;z-index: -1;}#sk-container-id-1 div.sk-parallel-item {display: flex;flex-direction: column;z-index: 1;position: relative;background-color: white;}#sk-container-id-1 div.sk-parallel-item:first-child::after {align-self: flex-end;width: 50%;}#sk-container-id-1 div.sk-parallel-item:last-child::after {align-self: flex-start;width: 50%;}#sk-container-id-1 div.sk-parallel-item:only-child::after {width: 0;}#sk-container-id-1 div.sk-dashed-wrapped {border: 1px dashed gray;margin: 0 0.4em 0.5em 0.4em;box-sizing: border-box;padding-bottom: 0.4em;background-color: white;}#sk-container-id-1 div.sk-label label {font-family: monospace;font-weight: bold;display: inline-block;line-height: 1.2em;}#sk-container-id-1 div.sk-label-container {text-align: center;}#sk-container-id-1 div.sk-container {/* jupyter's `normalize.less` sets `[hidden] { display: none; }` but bootstrap.min.css set `[hidden] { display: none !important; }` so we also need the `!important` here to be able to override the default hidden behavior on the sphinx rendered scikit-learn.org. See: https://github.com/scikit-learn/scikit-learn/issues/21755 */display: inline-block !important;position: relative;}#sk-container-id-1 div.sk-text-repr-fallback {display: none;}</style><div id=\"sk-container-id-1\" class=\"sk-top-container\"><div class=\"sk-text-repr-fallback\"><pre>BernoulliNB()</pre><b>In a Jupyter environment, please rerun this cell to show the HTML representation or trust the notebook. <br />On GitHub, the HTML representation is unable to render, please try loading this page with nbviewer.org.</b></div><div class=\"sk-container\" hidden><div class=\"sk-item\"><div class=\"sk-estimator sk-toggleable\"><input class=\"sk-toggleable__control sk-hidden--visually\" id=\"sk-estimator-id-1\" type=\"checkbox\" checked><label for=\"sk-estimator-id-1\" class=\"sk-toggleable__label sk-toggleable__label-arrow\">BernoulliNB</label><div class=\"sk-toggleable__content\"><pre>BernoulliNB()</pre></div></div></div></div></div>"
            ]
          },
          "metadata": {},
          "execution_count": 5
        }
      ]
    },
    {
      "cell_type": "code",
      "source": [
        "import pandas as pd\n",
        "from sklearn.preprocessing import StandardScaler\n",
        "scaler = StandardScaler()\n",
        "#doing same data pre-processing on test_data\n",
        "datatest = pd.read_csv('test.csv')\n",
        "def convert_amount_to_actual_with_zeroes(amount):\n",
        "    if 'Crore' in amount:\n",
        "        value= float(amount.replace(' Crore+', '')) * 10000000\n",
        "    elif 'Lac' in amount:\n",
        "        value= float(amount.replace(' Lac+', '')) * 100000\n",
        "    elif 'Thou' in amount:\n",
        "        value= float(amount.replace(' Thou+', '')) * 1000\n",
        "    elif 'Hund' in amount:\n",
        "        value= float(amount.replace(' Hund+', '')) * 100\n",
        "    else:\n",
        "        value= float(amount)\n",
        "    return int(value)\n",
        "# Convert 'Total Assets' and 'Liabilities' to crore\n",
        "datatest['Total Assets'] = datatest['Total Assets'].apply(convert_amount_to_actual_with_zeroes)\n",
        "datatest['Liabilities'] = datatest['Liabilities'].apply(convert_amount_to_actual_with_zeroes)\n",
        "datatest = pd.get_dummies(datatest, columns=['state'])\n",
        "datatest= pd.get_dummies(datatest, columns=['Party'])\n",
        "datatest= datatest.apply(lambda x: x.astype(int) if x.name not in ['Candidate','Liabilities','Total Assests','Criminal Case','ID','Education','Constituency ∇'] else x)\n",
        "datatest[['Total Assets', 'Liabilities']] = scaler.fit_transform(datatest[['Total Assets', 'Liabilities']])\n",
        "def classify_title(name):\n",
        "    if \"Dr.\" in name:\n",
        "        return \"Dr\"\n",
        "    elif \"Adv.\" in name:\n",
        "        return \"Adv\"\n",
        "    else:\n",
        "        return \"None\"\n",
        "datatest['Candidate'] = datatest['Candidate'].apply(classify_title)\n",
        "datatest.drop(columns=['Constituency ∇'], inplace=True)\n",
        "\n",
        "datatest= pd.get_dummies(datatest, columns=['Candidate'])\n",
        "datatest = datatest.astype(int)\n",
        "datatest['Criminal_Case_Flag'] = datatest['Criminal Case'].apply(lambda x: 0 if x < 1 else 1)\n",
        "datatest = datatest.iloc[:, 1:]\n",
        "# print(datatest)\n",
        "y_pred = svm_model.predict(datatest)\n",
        "education_mapping = {\n",
        "    3:'8th Pass',\n",
        "    5:'12th Pass',\n",
        "    8:'Post Graduate',\n",
        "    7:'Graduate Professional',\n",
        "    6:'Graduate',\n",
        "    4:'10th Pass',\n",
        "    0:'Others',\n",
        "    9:'Doctorate',\n",
        "    1:'Literate',\n",
        "    2:'5th Pass',\n",
        "\n",
        "}\n",
        "# Create a list of predicted education values using education_mapping dictionary\n",
        "predicted_education = [education_mapping.get(label, -1) for label in y_pred]\n",
        "\n",
        "# Create a DataFrame with 'ID' starting from 0 and 'Predicted_Education'\n",
        "result_df = pd.DataFrame({'ID': range(len(predicted_education)), 'Education': predicted_education})\n",
        "\n",
        "# Print the DataFrame to display the results\n",
        "print(result_df)\n",
        "\n",
        "# Save the DataFrame to a CSV file named 'predict_education.csv' without including the index\n",
        "result_df.to_csv('predict_education.csv', index=False)\n",
        "\n",
        "\n"
      ],
      "metadata": {
        "colab": {
          "base_uri": "https://localhost:8080/"
        },
        "id": "iCoEFP3xZ1uY",
        "outputId": "53dbebd8-792b-48e5-c2a3-a07720605e9b"
      },
      "execution_count": null,
      "outputs": [
        {
          "output_type": "stream",
          "name": "stdout",
          "text": [
            "      Criminal Case  Total Assets  Liabilities  state_ANDHRA PRADESH  \\\n",
            "0                 2             1            0                     0   \n",
            "1                 1             0            0                     0   \n",
            "2                 3             0            0                     0   \n",
            "3                 1             0            0                     0   \n",
            "4                 0             0            0                     0   \n",
            "...             ...           ...          ...                   ...   \n",
            "1369              0             0            0                     0   \n",
            "1370              1             0            0                     0   \n",
            "1371              1             0            0                     0   \n",
            "1372              1             0            0                     0   \n",
            "1373              0             0            0                     0   \n",
            "\n",
            "      state_ARUNACHAL PRADESH  state_ASSAM  state_BIHAR  state_CHHATTISGARH  \\\n",
            "0                           0            0            0                   0   \n",
            "1                           0            0            0                   0   \n",
            "2                           0            0            0                   0   \n",
            "3                           0            0            0                   0   \n",
            "4                           0            0            0                   0   \n",
            "...                       ...          ...          ...                 ...   \n",
            "1369                        0            0            0                   0   \n",
            "1370                        0            0            0                   0   \n",
            "1371                        0            0            1                   0   \n",
            "1372                        0            0            0                   0   \n",
            "1373                        0            0            0                   1   \n",
            "\n",
            "      state_DELHI  state_GOA  ...  Party_SHS  Party_SP  \\\n",
            "0               0          0  ...          0         0   \n",
            "1               0          0  ...          0         0   \n",
            "2               0          0  ...          0         0   \n",
            "3               0          0  ...          0         0   \n",
            "4               0          0  ...          0         1   \n",
            "...           ...        ...  ...        ...       ...   \n",
            "1369            0          0  ...          0         0   \n",
            "1370            0          0  ...          0         0   \n",
            "1371            0          0  ...          0         0   \n",
            "1372            0          0  ...          0         0   \n",
            "1373            0          0  ...          0         0   \n",
            "\n",
            "      Party_Sikkim Krantikari Morcha  Party_TDP  Party_Tipra Motha Party  \\\n",
            "0                                  0          0                        0   \n",
            "1                                  0          0                        0   \n",
            "2                                  0          0                        0   \n",
            "3                                  0          0                        0   \n",
            "4                                  0          0                        0   \n",
            "...                              ...        ...                      ...   \n",
            "1369                               0          0                        0   \n",
            "1370                               0          0                        0   \n",
            "1371                               0          0                        0   \n",
            "1372                               0          0                        0   \n",
            "1373                               0          0                        0   \n",
            "\n",
            "      Party_YSRCP  Candidate_Adv  Candidate_Dr  Candidate_None  \\\n",
            "0               0              0             0               1   \n",
            "1               0              0             0               1   \n",
            "2               0              0             0               1   \n",
            "3               0              0             0               1   \n",
            "4               0              0             0               1   \n",
            "...           ...            ...           ...             ...   \n",
            "1369            0              0             0               1   \n",
            "1370            0              0             0               1   \n",
            "1371            0              0             0               1   \n",
            "1372            0              0             0               1   \n",
            "1373            0              0             0               1   \n",
            "\n",
            "      Criminal_Case_Flag  \n",
            "0                      1  \n",
            "1                      1  \n",
            "2                      1  \n",
            "3                      1  \n",
            "4                      0  \n",
            "...                  ...  \n",
            "1369                   0  \n",
            "1370                   1  \n",
            "1371                   1  \n",
            "1372                   1  \n",
            "1373                   0  \n",
            "\n",
            "[1374 rows x 58 columns]\n",
            "        ID              Education\n",
            "0        0              10th Pass\n",
            "1        1              12th Pass\n",
            "2        2              10th Pass\n",
            "3        3              12th Pass\n",
            "4        4          Post Graduate\n",
            "...    ...                    ...\n",
            "1369  1369               Graduate\n",
            "1370  1370  Graduate Professional\n",
            "1371  1371               Graduate\n",
            "1372  1372  Graduate Professional\n",
            "1373  1373          Post Graduate\n",
            "\n",
            "[1374 rows x 2 columns]\n"
          ]
        }
      ]
    }
  ]
}
